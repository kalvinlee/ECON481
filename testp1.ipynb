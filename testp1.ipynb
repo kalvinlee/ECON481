{
 "cells": [
  {
   "cell_type": "markdown",
   "id": "bad2caf7-9008-4785-b969-c9306f163212",
   "metadata": {},
   "source": [
    "Problem 1 Set Tester"
   ]
  },
  {
   "cell_type": "code",
   "execution_count": 1,
   "id": "7db72f5d-367b-4fc3-9844-6fc613a47b08",
   "metadata": {},
   "outputs": [
    {
     "data": {
      "text/plain": [
       "'https://github.com/kalvinlee/ECON481/blob/main/problemset1.py'"
      ]
     },
     "execution_count": 1,
     "metadata": {},
     "output_type": "execute_result"
    }
   ],
   "source": [
    "def github() -> str:\n",
    "    # returns link to solution file on github\n",
    "    return \"https://github.com/kalvinlee/ECON481/blob/main/problemset1.py\"\n",
    "\n",
    "github()"
   ]
  },
  {
   "cell_type": "code",
   "execution_count": 3,
   "id": "30d681db-3318-4943-a593-65c2603b5742",
   "metadata": {},
   "outputs": [
    {
     "data": {
      "text/plain": [
       "{'evens': 20, 'odds': 25}"
      ]
     },
     "execution_count": 3,
     "metadata": {},
     "output_type": "execute_result"
    }
   ],
   "source": [
    "def evens_and_odds(n: int) -> dict:\n",
    "    # takes a natural number n and returns a dictionary with two keys \"evens\" and \"odds\".\n",
    "    # \"evens\" prints the sum of all even natural numbers less than n\n",
    "    # \"odds\" prints the sum of all odd natural numbers less than n\n",
    "    dict = {\n",
    "        'evens' : sum(i for i in range(n) if i % 2 == 0),\n",
    "        'odds': sum(j for j in range(n) if j % 2 == 1),\n",
    "    }\n",
    "    return dict\n",
    "\n",
    "evens_and_odds(10)\n"
   ]
  },
  {
   "cell_type": "code",
   "execution_count": 6,
   "id": "47785c33-8656-4068-80bd-db6ce14f7629",
   "metadata": {},
   "outputs": [
    {
     "data": {
      "text/plain": [
       "{'evens': 2, 'odds': 4}"
      ]
     },
     "execution_count": 6,
     "metadata": {},
     "output_type": "execute_result"
    }
   ],
   "source": [
    "def evens_and_odds1(n: int) -> dict:\n",
    "    # takes a natural number n and returns a dictionary with two keys \"evens\" and \"odds\".\n",
    "    # \"evens\" prints the sum of all even natural numbers less than n\n",
    "    # \"odds\" prints the sum of all odd natural numbers less than n\n",
    "    e_sum = 0\n",
    "    o_sum = 0\n",
    "    for i in range(n):\n",
    "        if i % 2 == 0:\n",
    "            e_sum += i\n",
    "        else:\n",
    "            o_sum += i\n",
    "    return {'evens': e_sum, 'odds': o_sum}\n",
    "\n",
    "evens_and_odds1(10)\n",
    "evens_and_odds1(4)\n"
   ]
  },
  {
   "cell_type": "code",
   "execution_count": 9,
   "id": "114e3c56-2712-445f-9279-dd8f5a51e243",
   "metadata": {},
   "outputs": [
    {
     "data": {
      "text/plain": [
       "2"
      ]
     },
     "execution_count": 9,
     "metadata": {},
     "output_type": "execute_result"
    }
   ],
   "source": [
    "from typing import Union\n",
    "from datetime import datetime, date, time, timedelta\n",
    "\n",
    "# takes two strings in format 'YYYY-MM-DD' and a keyword 'float' or 'string'\n",
    "# returns time between two dates in days\n",
    "# if out keyword is not specificed, assumed to be 'float' output\n",
    "# implements datetime package\n",
    "def time_diff(date_1: str, date_2: str, out: str) -> Union[str,float]:\n",
    "    \"\"\"\n",
    "    Some docstrings.\n",
    "    \"\"\"\n",
    "    d1 = datetime.strptime(date_1, \"%Y-%m-%d\")\n",
    "    d2 = datetime.strptime(date_2, \"%Y-%m-%d\")\n",
    "    n_days = abs(d2 - d1).days\n",
    "    \n",
    "    if out == \"string\":\n",
    "        return \"There are \" + str(n_days) + \" days between the two dates\"\n",
    "    else:\n",
    "        return n_days\n",
    "\n",
    "\n",
    "time_diff('2020-01-04', '2020-01-02', 'float')\n",
    "# time_diff('2000-08-12', '2002-05-22', 'string')\n",
    "# time_diff('2002-05-22', '2000-08-12', 'float')"
   ]
  },
  {
   "cell_type": "code",
   "execution_count": 13,
   "id": "8c6d4a6c-ccba-40e7-9eb0-4360b642f13e",
   "metadata": {},
   "outputs": [
    {
     "data": {
      "text/plain": [
       "['penguin',\n",
       " 'bear',\n",
       " 'zebra',\n",
       " 'giraffe',\n",
       " 'tiger',\n",
       " 'monkey',\n",
       " 'elephant',\n",
       " 'lion',\n",
       " 'cat',\n",
       " 'dog']"
      ]
     },
     "execution_count": 13,
     "metadata": {},
     "output_type": "execute_result"
    }
   ],
   "source": [
    "# takes list parameter and returns a list of the arguments in reverse order\n",
    "def reverse(in_list: list) -> list:\n",
    "    new_list = [in_list[-(x+1)] for x in range(len(in_list))]\n",
    "    return new_list\n",
    "\n",
    "reverse(['a','b','c'])\n",
    "reverse([\"dog\", \"cat\", \"lion\", \"elephant\", \"monkey\", \"tiger\", \"giraffe\", \"zebra\", \"bear\", \"penguin\"])\n"
   ]
  },
  {
   "cell_type": "code",
   "execution_count": 40,
   "id": "13992b74-5844-4f61-99e1-81d15e67aff8",
   "metadata": {},
   "outputs": [
    {
     "data": {
      "text/plain": [
       "0.375"
      ]
     },
     "execution_count": 40,
     "metadata": {},
     "output_type": "execute_result"
    }
   ],
   "source": [
    "# takes two natural numbers n and k, and returns probability of getting\n",
    "# k heads from n flips, from 50/50 coin flips\n",
    "def prob_k_heads(n: int, k: int) -> float:\n",
    "    # helper function that reduces redundancy that calculates factorials recursively\n",
    "    def factorial(x):\n",
    "        # base case to get out of recursive loop\n",
    "        if x == 0:\n",
    "            return 1\n",
    "        else:\n",
    "        # multiplies current value and gets next value from \n",
    "            return x * factorial(x-1)\n",
    "\n",
    "    # calculates n chooses k using the factorial helper method\n",
    "    n_choose_k = factorial(n) / (factorial(k) * factorial(n - k))\n",
    "\n",
    "    # calculates probability based on binomial function from a fair coin\n",
    "    prob = n_choose_k * (0.5) ** k * (0.5) ** (n - k)\n",
    "    return prob\n",
    "\n",
    "prob_k_heads(3,1)\n"
   ]
  },
  {
   "cell_type": "code",
   "execution_count": null,
   "id": "ec9b0c24-e3e9-404c-aee5-d63e41aa7956",
   "metadata": {},
   "outputs": [],
   "source": []
  }
 ],
 "metadata": {
  "kernelspec": {
   "display_name": "Python 3 (ipykernel)",
   "language": "python",
   "name": "python3"
  },
  "language_info": {
   "codemirror_mode": {
    "name": "ipython",
    "version": 3
   },
   "file_extension": ".py",
   "mimetype": "text/x-python",
   "name": "python",
   "nbconvert_exporter": "python",
   "pygments_lexer": "ipython3",
   "version": "3.10.13"
  }
 },
 "nbformat": 4,
 "nbformat_minor": 5
}
