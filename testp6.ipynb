{
 "cells": [
  {
   "cell_type": "code",
   "execution_count": 4,
   "id": "4642a4b0-1022-44d6-95fc-c64aabd24ed3",
   "metadata": {},
   "outputs": [
    {
     "name": "stdout",
     "output_type": "stream",
     "text": [
      "bids\n",
      "items\n"
     ]
    }
   ],
   "source": [
    "import sqlite3\n",
    "\n",
    "# Path to your SQLite database\n",
    "db_path = '/home/jovyan/ECON481/auctions.db'\n",
    "\n",
    "# Connect to the SQLite database\n",
    "conn = sqlite3.connect(db_path)\n",
    "\n",
    "# Create a cursor object to interact with the database\n",
    "cursor = conn.cursor()\n",
    "\n",
    "# Example query: List all tables in the database\n",
    "cursor.execute(\"SELECT name FROM sqlite_master WHERE type='table';\")\n",
    "tables = cursor.fetchall()\n",
    "\n",
    "# Print out the tables\n",
    "for table in tables:\n",
    "    print(table[0])\n",
    "\n",
    "# Remember to close the connection when done\n",
    "conn.close()\n"
   ]
  },
  {
   "cell_type": "code",
   "execution_count": 1,
   "id": "72daa3b5-98c7-46de-b19b-25f41974de3b",
   "metadata": {},
   "outputs": [],
   "source": [
    "import pandas as pd\n",
    "from sqlalchemy import create_engine\n",
    "from sqlalchemy.orm import Session\n",
    "\n",
    "path = 'auctions.db'\n",
    "path2 = 'auctions2.db'\n",
    "path3 = 'auctions3.db'\n",
    "\n",
    "class DataBase:\n",
    "    def __init__(self, loc: str, db_type: str = \"sqlite\") -> None:\n",
    "        \"\"\"Initialize the class and connect to the database\"\"\"\n",
    "        self.loc = loc\n",
    "        self.db_type = db_type\n",
    "        self.engine = create_engine(f'{self.db_type}:///{self.loc}')\n",
    "    def query(self, q: str) -> pd.DataFrame:\n",
    "        \"\"\"Run a query against the database and return a DataFrame\"\"\"\n",
    "        with Session(self.engine) as session:\n",
    "            df = pd.read_sql(q, session.bind)\n",
    "        return(df)\n",
    "\n",
    "auctions = DataBase(path)\n",
    "auctions2 = DataBase(path2)\n",
    "auctions3 = DataBase(path3)"
   ]
  },
  {
   "cell_type": "code",
   "execution_count": 179,
   "id": "5c3a050b-ec35-44a3-aa81-fc2e380d9495",
   "metadata": {
    "scrolled": true
   },
   "outputs": [
    {
     "name": "stdout",
     "output_type": "stream",
     "text": [
      "     index  bidLogId     itemId  itemPrice  bidAmount  \\\n",
      "0       50         0  178348858       9.99       20.0   \n",
      "1       51         0  178348858      13.00       12.0   \n",
      "2       52         0  178348858      21.00       23.0   \n",
      "3       53         0  178348858      24.00       35.0   \n",
      "4       54         0  178348858      36.00       48.0   \n",
      "..     ...       ...        ...        ...        ...   \n",
      "546  29510         0  177920252      17.00       47.0   \n",
      "547  29511         0  177920252      24.50       22.5   \n",
      "548  29512         0  177920252      32.00       30.0   \n",
      "549  29513         0  177920252      41.00       39.0   \n",
      "550  29514         0  177920252      47.00       45.0   \n",
      "\n",
      "                        bidTime  quantity bidIPAddress adCode serverIP  \\\n",
      "0    2023-09-18 16:11:04.587000         1         None   None     None   \n",
      "1    2023-09-22 14:22:06.700000         1         None   None     None   \n",
      "2    2023-09-23 12:35:18.157000         1         None   None     None   \n",
      "3    2023-09-23 18:23:27.993000         1         None   None     None   \n",
      "4    2023-09-23 18:37:47.213000         1         None   None     None   \n",
      "..                          ...       ...          ...    ...      ...   \n",
      "546  2023-09-18 19:21:47.030000         1         None   None     None   \n",
      "547  2023-09-18 20:00:33.753000         1         None   None     None   \n",
      "548  2023-09-18 20:00:46.380000         1         None   None     None   \n",
      "549  2023-09-18 20:01:01.193000         1         None   None     None   \n",
      "550  2023-09-18 20:01:25.083000         1         None   None     None   \n",
      "\n",
      "     retracted bidderName highBidderName  isBuyerHighBidder  isLoggedInBuyer  \n",
      "0            0     a****9         a****9                  0                0  \n",
      "1            0     S****p         a****9                  0                0  \n",
      "2            0     H****2         H****2                  0                0  \n",
      "3            0     b****e         b****e                  0                0  \n",
      "4            0     t****5         t****5                  0                0  \n",
      "..         ...        ...            ...                ...              ...  \n",
      "546          0     K****s         K****s                  0                0  \n",
      "547          0     C****n         K****s                  0                0  \n",
      "548          0     C****n         K****s                  0                0  \n",
      "549          0     C****n         K****s                  0                0  \n",
      "550          0     C****n         K****s                  0                0  \n",
      "\n",
      "[551 rows x 15 columns]\n"
     ]
    }
   ],
   "source": [
    "query = \"SELECT * FROM bids;\"\n",
    "pd.set_option('display.max_rows', 10)\n",
    "print(auctions.query(query))"
   ]
  },
  {
   "cell_type": "code",
   "execution_count": 233,
   "id": "fab681ea-ffe9-4b56-b37d-3652823a33d0",
   "metadata": {},
   "outputs": [
    {
     "name": "stdout",
     "output_type": "stream",
     "text": [
      "       itemid       std\n",
      "0   172998011  0.000000\n",
      "1   174445924  0.577350\n",
      "2   174551689  1.830034\n",
      "3   174767945  8.607399\n",
      "4   174871788  3.109126\n",
      "..        ...       ...\n",
      "82  182571641  7.767700\n",
      "83  182660924  4.364634\n",
      "84  182745253  2.884098\n",
      "85  182883873  0.707107\n",
      "86  182925212  1.154701\n",
      "\n",
      "[87 rows x 2 columns]\n"
     ]
    }
   ],
   "source": [
    "import pandas as pd\n",
    "import sqlite3\n",
    "from sqlalchemy import create_engine\n",
    "from sqlalchemy.orm import Session\n",
    "def std() -> str:\n",
    "    q = \"\"\"\n",
    "        select itemid, \n",
    "        sqrt(sum((bidAmount - avg_amount) * (bidAmount - avg_amount)) / (count - 1)) as std\n",
    "        from (\n",
    "            select itemid, bidAmount,\n",
    "                avg(bidAmount) over (partition by itemid) as avg_amount,\n",
    "                count(bidAmount) over (partition by itemid) as count\n",
    "            from bids\n",
    "            where bidAmount is not null\n",
    "        )\n",
    "        where count > 1\n",
    "        group by itemid\n",
    "        \"\"\"\n",
    "    return q\n",
    "\n",
    "print(auctions.query(std()))"
   ]
  },
  {
   "cell_type": "code",
   "execution_count": 190,
   "id": "8a42657b-726f-4179-b2de-b2182a4e020f",
   "metadata": {},
   "outputs": [
    {
     "name": "stdout",
     "output_type": "stream",
     "text": [
      "      itemId  avg_amount  count all_bid_amounts   sum\n",
      "0  174445924   15.333333      3  15.0,15.0,16.0  46.0\n"
     ]
    }
   ],
   "source": [
    "def p(itemid: int) -> str:\n",
    "    q = f\"\"\"\n",
    "    SELECT itemid, AVG(bidAmount) as avg_amount,\n",
    "        COUNT(bidAmount) as count,\n",
    "        GROUP_CONCAT(bidAmount) as all_bid_amounts,\n",
    "        sum(bidAmount) as sum\n",
    "    FROM bids\n",
    "    WHERE bidAmount IS NOT NULL AND itemid = {itemid};\n",
    "    \"\"\"\n",
    "    return q\n",
    "print(auctions.query(p(174445924)))\n"
   ]
  },
  {
   "cell_type": "code",
   "execution_count": 234,
   "id": "a60a66dc-2ca7-4bdc-b2aa-d421624f186f",
   "metadata": {},
   "outputs": [
    {
     "name": "stdout",
     "output_type": "stream",
     "text": [
      "    bidderName  total_spend  total_bids  spend_frac\n",
      "0       1****3        28.00       28.00    1.000000\n",
      "1       2****h         0.00       35.00    0.000000\n",
      "2       4****S         0.00       23.99    0.000000\n",
      "3       7****1        23.99       23.99    1.000000\n",
      "4       A****3        15.00      383.00    0.039164\n",
      "..         ...          ...         ...         ...\n",
      "279     v****p         9.99        9.99    1.000000\n",
      "280     w****5        46.99       46.99    1.000000\n",
      "281     w****7        19.99       19.99    1.000000\n",
      "282     y****2        13.01       13.01    1.000000\n",
      "283     y****a        34.99       34.99    1.000000\n",
      "\n",
      "[284 rows x 4 columns]\n"
     ]
    }
   ],
   "source": [
    "def bidder_spend_frac() -> str:\n",
    "    q = \"\"\"\n",
    "    select \n",
    "        bidderName,\n",
    "        sum(case when highBidderName = bidderName then bidAmount else 0 end) as total_spend,\n",
    "        sum(max) as total_bids,\n",
    "        sum(case when highBidderName = bidderName then bidAmount else 0 end) / sum(max) as spend_frac\n",
    "    from (\n",
    "        select bidderName, itemid, highBidderName, bidAmount, max(bidAmount) as max\n",
    "        from bids\n",
    "        group by bidderName, itemid\n",
    "    )\n",
    "    group by bidderName;\n",
    "    \"\"\"\n",
    "    return q\n",
    "\n",
    "print(auctions.query(bidder_spend_frac()))"
   ]
  },
  {
   "cell_type": "code",
   "execution_count": 160,
   "id": "0285a27e-38fe-41bd-9f9f-a12d01142ff7",
   "metadata": {},
   "outputs": [
    {
     "name": "stdout",
     "output_type": "stream",
     "text": [
      "   bidAmount\n",
      "0       15.0\n",
      "1       15.0\n",
      "2       16.0\n"
     ]
    }
   ],
   "source": [
    "def get_bid_amounts(itemid: int) -> str:\n",
    "    q = f\"\"\"\n",
    "    SELECT bidAmount\n",
    "    FROM bids\n",
    "    WHERE itemid = {itemid};\n",
    "    \"\"\"\n",
    "    return q\n",
    "\n",
    "itemid = 174445924          # Replace 123 with the specific itemid you're interested in\n",
    "print(auctions.query(get_bid_amounts(itemid)))"
   ]
  },
  {
   "cell_type": "code",
   "execution_count": 4,
   "id": "dd79c5e0-2c0c-4d61-9445-9154227d0e4e",
   "metadata": {},
   "outputs": [
    {
     "name": "stdout",
     "output_type": "stream",
     "text": [
      "       freq\n",
      "0  0.108856\n"
     ]
    }
   ],
   "source": [
    "def min_increment_freq() -> str:\n",
    "    q = \"\"\"\n",
    "    select cast(sum(case when b.bidAmount - p.prevbid = i.bidIncrement then 1 else 0 end) as float) / nullif(count(*),0) as freq\n",
    "    from bids as b\n",
    "    inner join items as i on b.itemId = i.itemId\n",
    "    inner join (\n",
    "        select itemId, bidTime, lag(bidAmount) over (partition by itemId order by bidTime) as prevbid\n",
    "        from bids\n",
    "    ) as p on b.itemId = p.itemId and b.bidTime = p.bidTime\n",
    "    where i.isBuyNowUsed != 1;\n",
    "    \"\"\"\n",
    "    return q\n",
    "\n",
    "print(auctions.query(min_increment_freq()))"
   ]
  },
  {
   "cell_type": "code",
   "execution_count": 235,
   "id": "0a15e260-3206-4e61-bd35-051a84c7232c",
   "metadata": {},
   "outputs": [
    {
     "name": "stdout",
     "output_type": "stream",
     "text": [
      "   timestamp_bin  win_perc\n",
      "0              1  0.744318\n",
      "1              2  0.102273\n",
      "2              3  0.028409\n",
      "3              4  0.034091\n",
      "4              5  0.034091\n",
      "5              6  0.005682\n",
      "6              8  0.011364\n",
      "7              9  0.022727\n",
      "8             10  0.017045\n"
     ]
    }
   ],
   "source": [
    "from sqlalchemy import func, distinct\n",
    "def win_perc_by_timestamp() -> str:\n",
    "    q = \"\"\"\n",
    "    /* stores auction info */\n",
    "    with a as (\n",
    "        select itemid, starttime, endtime\n",
    "        from items\n",
    "    ), \n",
    "    /* figures out the timestamp_bin and which bin it belongs in */\n",
    "    time as (\n",
    "        select b.itemid, \n",
    "            cast(((julianday(a.endtime) - julianday(b.bidtime)) / \n",
    "                (julianday(a.endtime) - julianday(a.starttime)) * 10) + 1 as int) as timestamp_bin,\n",
    "            max(b.bidAmount) over (partition by b.itemid) as max\n",
    "        from bids as b\n",
    "        inner join items as a on b.itemid = a.itemid\n",
    "    ),\n",
    "    /* counts the number of items are within each bin */\n",
    "    win as (\n",
    "        select time.timestamp_bin, \n",
    "        count(distinct b.itemid) as win_count\n",
    "        from time\n",
    "        inner join bids as b on time.itemid = b.itemid\n",
    "                            and time.max = b.bidAmount\n",
    "        inner join a on b.itemid = a.itemid\n",
    "        where cast(((julianday(a.endtime) - julianday(b.bidtime)) / \n",
    "                   (julianday(a.endtime) - julianday(a.starttime)) * 10) + 1 as int) = time.timestamp_bin\n",
    "        group by time.timestamp_bin\n",
    "    )\n",
    "    /* outputs the bins and the winning percentage from within each bin*/\n",
    "    select timestamp_bin,\n",
    "        win_count * 1.0 / (select sum(win_count) from win) as win_perc\n",
    "    from win\n",
    "    group by timestamp_bin\n",
    "    order by timestamp_bin;\n",
    "    \"\"\"\n",
    "    return q\n",
    "\n",
    "print(auctions.query(win_perc_by_timestamp()))"
   ]
  },
  {
   "cell_type": "code",
   "execution_count": 207,
   "id": "ab5cc075-8a8e-4924-9ad0-0c72dcc3018f",
   "metadata": {},
   "outputs": [
    {
     "name": "stdout",
     "output_type": "stream",
     "text": [
      "        itemId  timestamp_bin    max\n",
      "0    165561698              1   9.91\n",
      "1    170983900              1   9.91\n",
      "2    172998011              1   9.91\n",
      "3    172998011              2   9.91\n",
      "4    173907435              1  14.99\n",
      "..         ...            ...    ...\n",
      "171  182760698              1  16.99\n",
      "172  182777527              1  15.99\n",
      "173  182883873              1  11.99\n",
      "174  182894197              1   8.99\n",
      "175  182925212              1  10.01\n",
      "\n",
      "[176 rows x 3 columns]\n"
     ]
    }
   ],
   "source": [
    "q = \"\"\"\n",
    "with a as (\n",
    "    select itemid, starttime, endtime \n",
    "    from items\n",
    ")\n",
    "select b.itemid,\n",
    "    cast(((julianday(a.endtime) - julianday(b.bidtime)) / (julianday(a.endtime) - julianday(a.starttime)) * 10) + 1 as int) as timestamp_bin, max(b.bidAmount) as max\n",
    "from bids as b\n",
    "inner join items as a on b.itemid = a.itemid\n",
    "where (b.itemId, b.bidAmount) in (\n",
    "    select itemId, max(bidAmount)\n",
    "    from bids\n",
    "    group by itemId\n",
    ")\n",
    "group by b.itemid, timestamp_bin\n",
    "\"\"\"\n",
    "df = auctions.query(q)\n",
    "print(df)"
   ]
  },
  {
   "cell_type": "code",
   "execution_count": 232,
   "id": "fa430468-e4e0-4ba4-b1b1-4eec20715806",
   "metadata": {},
   "outputs": [
    {
     "data": {
      "text/plain": [
       "'https://github.com/kalvinlee/ECON481/blob/main/problemset6.py'"
      ]
     },
     "execution_count": 232,
     "metadata": {},
     "output_type": "execute_result"
    }
   ],
   "source": [
    "def github() -> str:\n",
    "    return \"https://github.com/kalvinlee/ECON481/blob/main/problemset6.py\"\n",
    "\n",
    "github()"
   ]
  },
  {
   "cell_type": "code",
   "execution_count": null,
   "id": "23b3cbd1-7d61-4164-86a4-2d5552549621",
   "metadata": {},
   "outputs": [],
   "source": []
  }
 ],
 "metadata": {
  "kernelspec": {
   "display_name": "Python 3 (ipykernel)",
   "language": "python",
   "name": "python3"
  },
  "language_info": {
   "codemirror_mode": {
    "name": "ipython",
    "version": 3
   },
   "file_extension": ".py",
   "mimetype": "text/x-python",
   "name": "python",
   "nbconvert_exporter": "python",
   "pygments_lexer": "ipython3",
   "version": "3.10.13"
  }
 },
 "nbformat": 4,
 "nbformat_minor": 5
}
