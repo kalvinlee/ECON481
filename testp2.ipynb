{
 "cells": [
  {
   "cell_type": "code",
   "execution_count": 78,
   "id": "e7a99410-2457-4962-a240-600b342f861e",
   "metadata": {},
   "outputs": [
    {
     "name": "stdout",
     "output_type": "stream",
     "text": [
      "[5.06224431 2.99466161 1.99520722 6.02141795]\n"
     ]
    }
   ],
   "source": [
    "import numpy as np\n",
    "def simulate_data(seed: int = 481) -> tuple:\n",
    "    np.random.seed(seed)\n",
    "    obs = 1000\n",
    "    # generates x values\n",
    "    x1 = np.random.normal(0, np.sqrt(2), size = obs)\n",
    "    x2 = np.random.normal(0, np.sqrt(2), size = obs)\n",
    "    x3 = np.random.normal(0, np.sqrt(2), size = obs)\n",
    "    # generates error values\n",
    "    e = np.random.normal(0, 1, size = obs)\n",
    "    # generates y values\n",
    "    y = 5 + 3*x1 + 2 * x2 + 6 * x3 + e\n",
    "    # generates X 3D array\n",
    "    X = np.array([x1, x2, x3]).T\n",
    "    return y,X\n",
    "\n",
    "y, X = simulate_data(5)\n",
    "\n",
    "import numpy as np\n",
    "import scipy as sp\n",
    "def estimate_mle(y: np.array, X: np.array) -> np.array:\n",
    "    def negll(beta: np.array, y, X):\n",
    "        beta0, beta1, beta2, beta3 = beta\n",
    "        n = len(y)\n",
    "        sigsq = 1\n",
    "        yhat = beta0 + beta1 * X[:, 0] + beta2 * X[:, 1] + beta3 * X[:, 2]\n",
    "        log_l = -(n/2) * np.log(2 * np.pi * sigsq) - (1/(2 * sigsq)) * np.sum((y - yhat)**2)\n",
    "        return -log_l\n",
    "    initial_b = np.zeros(4)\n",
    "    result_b = sp.optimize.minimize(negll, initial_b, args=(y,X), method = 'Nelder-Mead')\n",
    "    return result_b.x\n",
    "print(estimate_mle(y,X))"
   ]
  },
  {
   "cell_type": "code",
   "execution_count": 40,
   "id": "ba014114-8333-431e-8ebb-fa1898b2fd24",
   "metadata": {},
   "outputs": [
    {
     "data": {
      "text/plain": [
       "4.786848384396221"
      ]
     },
     "execution_count": 40,
     "metadata": {},
     "output_type": "execute_result"
    }
   ],
   "source": [
    "np.mean(X)\n",
    "np.mean(y)"
   ]
  },
  {
   "cell_type": "code",
   "execution_count": 79,
   "id": "8475d2e1-cd06-4cf1-a4b1-ba0c4d39164b",
   "metadata": {},
   "outputs": [
    {
     "name": "stdout",
     "output_type": "stream",
     "text": [
      "[5.06224431 2.99466161 1.99520722 6.02141795]\n"
     ]
    }
   ],
   "source": [
    "import numpy as np\n",
    "import scipy as sp\n",
    "def estimate_mle(y: np.array, X: np.array) -> np.array:\n",
    "    def negll(beta: np.array, y, X):\n",
    "        beta0, beta1, beta2, beta3 = beta\n",
    "        n = len(y)\n",
    "        sigsq = 1\n",
    "        yhat = beta0 + beta1 * X[:, 0] + beta2 * X[:, 1] + beta3 * X[:, 2]\n",
    "        log_l = -(n/2) * np.log(2 * np.pi * sigsq) - (1/(2 * sigsq)) * np.sum((y - yhat)**2)\n",
    "        return -log_l\n",
    "    initial_b = [0, 0, 0, 0]\n",
    "    result_b = sp.optimize.minimize(negll, initial_b, args=(y,X), method = 'Nelder-Mead')\n",
    "    return result_b.x\n",
    "print(estimate_mle(y,X))"
   ]
  },
  {
   "cell_type": "code",
   "execution_count": 81,
   "id": "12bf0871-cb0b-4453-90b9-ce1839fb6230",
   "metadata": {},
   "outputs": [
    {
     "name": "stdout",
     "output_type": "stream",
     "text": [
      "[5.06224431 2.99466161 1.99520722 6.02141795]\n"
     ]
    }
   ],
   "source": [
    "def estimate_ols(y: np.array, X: np.array) -> np.array:\n",
    "    def sse(beta: np.array, X: np.array, y: np.array):\n",
    "        return np.sum((y - (X @ beta)) ** 2)\n",
    "    X = np.hstack((np.ones((X.shape[0], 1)), X))\n",
    "    b_initial = np.zeros(4)\n",
    "    b_result = sp.optimize.minimize(sse, b_initial, args = (X, y), method = 'Nelder-Mead')\n",
    "    return b_result.x\n",
    "print(estimate_ols(y,X))"
   ]
  },
  {
   "cell_type": "code",
   "execution_count": null,
   "id": "62cd7a87-c9ea-4885-a603-abf209601c05",
   "metadata": {},
   "outputs": [],
   "source": [
    "def github() -> str:\n",
    "    return \"https://github.com/kalvinlee/ECON481/blob/main/problemset2.py\""
   ]
  }
 ],
 "metadata": {
  "kernelspec": {
   "display_name": "Python 3 (ipykernel)",
   "language": "python",
   "name": "python3"
  },
  "language_info": {
   "codemirror_mode": {
    "name": "ipython",
    "version": 3
   },
   "file_extension": ".py",
   "mimetype": "text/x-python",
   "name": "python",
   "nbconvert_exporter": "python",
   "pygments_lexer": "ipython3",
   "version": "3.10.13"
  }
 },
 "nbformat": 4,
 "nbformat_minor": 5
}
